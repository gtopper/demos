{
 "cells": [
  {
   "cell_type": "markdown",
   "id": "d88a9647",
   "metadata": {},
   "source": [
    "# Stocks news ingestion"
   ]
  },
  {
   "cell_type": "markdown",
   "id": "9a8b28bb",
   "metadata": {},
   "source": [
    "Two options to run stocks demo (with kfpipeline and without).\n",
    "1. run notebooks `01_ingest_news.ipynb`, `02_ingest_stocks.ipynb`, `03_model_training.ipynb`, `04_model_serving.ipynb`, `06_grafana_view`\n",
    "2. or `01_ingest_news.ipynb`, `02_ingest_stocks.ipynb`, `05_stocks_pipeline`"
   ]
  },
  {
   "cell_type": "markdown",
   "id": "c95e381b",
   "metadata": {},
   "source": [
    "> <b> Steps </b>\n",
    "> * [project creation and prerequisits](#project-creation-and-prerequisits)\n",
    "> * [Deploying sentiment analysis serving function from the function marketplace](#Deploying-sentiment-analysis-serving-function-from-the-function-marketplace)\n",
    "> * [Creating a feature set and declaring the graph](#Creating-a-feature-set-and-declaring-the-graph)\n",
    "> * [Dummy ingestion, Deploying ingestion service and getting ingestion endpoint](#Dummy-ingestion,-Deploying-ingestion-service-and-getting-ingestion-endpoint)\n",
    "> * [Testing ingestion service](#Testing-ingestion-service)\n",
    "> * [Creating scheduled mlrun job to invoke our function every time delta](#Creating-scheduled-mlrun-job-to-invoke-our-function-every-time-delta)"
   ]
  },
  {
   "cell_type": "markdown",
   "id": "0d0042bb",
   "metadata": {},
   "source": [
    "## project creation and prerequisits"
   ]
  },
  {
   "cell_type": "code",
   "execution_count": 1,
   "id": "4e026f06",
   "metadata": {},
   "outputs": [
    {
     "name": "stdout",
     "output_type": "stream",
     "text": [
      "package yfinance installed\n",
      "package yahoo_fin installed\n"
     ]
    }
   ],
   "source": [
    "# install prerequsits \n",
    "# prerequisits for the notebook is installing 2 packages yfinance yahoo_fin for uploading stocks data \n",
    "import importlib.util\n",
    "import IPython\n",
    "\n",
    "def install_missing_packages(packages):\n",
    "    install_flag = False\n",
    "    for package in packages:\n",
    "        spec = importlib.util.find_spec(package)\n",
    "        if spec is None:\n",
    "            %pip install {package}\n",
    "            install_flag = True\n",
    "        else:     \n",
    "            print(\"package {} installed\".format(package))\n",
    "        if install_flag:            \n",
    "            print (\"restarting kernerl due to package install\")\n",
    "            IPython.Application.instance().kernel.do_shutdown(True)\n",
    "# For illustrative purposes.\n",
    "packages  = ['yfinance', 'yahoo_fin']\n",
    "install_missing_packages(packages)"
   ]
  },
  {
   "cell_type": "code",
   "execution_count": 2,
   "id": "3050c0cb",
   "metadata": {},
   "outputs": [
    {
     "name": "stdout",
     "output_type": "stream",
     "text": [
      "> 2022-11-08 11:30:50,867 [info] loaded project stocks from MLRun DB\n"
     ]
    }
   ],
   "source": [
    "import mlrun\n",
    "project = mlrun.get_or_create_project(name='stocks',user_project=True, context=\"src/\")"
   ]
  },
  {
   "cell_type": "code",
   "execution_count": 3,
   "id": "6a102f82",
   "metadata": {},
   "outputs": [],
   "source": [
    "NUMBER_OF_STOCKS = 10"
   ]
  },
  {
   "cell_type": "code",
   "execution_count": 4,
   "id": "1067f761",
   "metadata": {},
   "outputs": [],
   "source": [
    "import os\n",
    "\n",
    "# getting the sentiment analysis pretrained model (433M might take a while)\n",
    "if not os.path.exists('src/model.pt'): \n",
    "    os.makedirs('src',exist_ok=True)\n",
    "    print('getting model')\n",
    "    !wget -O src/model.pt https://iguazio-sample-data.s3.amazonaws.com/models/model.pt "
   ]
  },
  {
   "cell_type": "markdown",
   "id": "0de7b70c",
   "metadata": {},
   "source": [
    "## Deploying sentiment analysis serving function from the function marketplace"
   ]
  },
  {
   "cell_type": "code",
   "execution_count": 5,
   "id": "34b923c2",
   "metadata": {},
   "outputs": [
    {
     "name": "stdout",
     "output_type": "stream",
     "text": [
      "> 2022-11-08 11:30:51,212 [info] Starting remote function deploy\n",
      "2022-11-08 11:30:51  (info) Deploying function\n",
      "2022-11-08 11:30:51  (info) Building\n",
      "2022-11-08 11:30:51  (info) Staging files and preparing base images\n",
      "2022-11-08 11:30:51  (info) Building processor image\n",
      "2022-11-08 11:33:59  (info) Build complete\n",
      "2022-11-08 11:34:35  (info) Function deploy complete\n",
      "> 2022-11-08 11:34:36,259 [info] successfully deployed function: {'internal_invocation_urls': ['nuclio-stocks-dani-sentiment-analysis-serving.default-tenant.svc.cluster.local:8080'], 'external_invocation_urls': ['stocks-dani-sentiment-analysis-serving-stocks-dani.default-tenant.app.vmdev93.lab.iguazeng.com/']}\n",
      "http://stocks-dani-sentiment-analysis-serving-stocks-dani.default-tenant.app.vmdev93.lab.iguazeng.com/\n"
     ]
    }
   ],
   "source": [
    "model_location = os.path.abspath('src/model.pt')\n",
    "sentiment_analysis_serving = mlrun.import_function('hub://sentiment_analysis_serving').apply(mlrun.auto_mount())\n",
    "sentiment_analysis_serving.add_model('sentiment_analysis_model', model_path=model_location,\n",
    "                                      class_name='SentimentClassifierServing')\n",
    "\n",
    "# sentiment_analysis_serving.with_http() # needed to provide http-endpoint to our serving graph\n",
    "\n",
    "sentiment_analysis_serving.spec.readiness_timeout = 3600\n",
    "address = sentiment_analysis_serving.deploy()\n",
    "print(address)"
   ]
  },
  {
   "cell_type": "markdown",
   "id": "f4ce9fc3",
   "metadata": {},
   "source": [
    "## Creating a feature set and declaring the graph"
   ]
  },
  {
   "cell_type": "code",
   "execution_count": 6,
   "id": "f373f9f6",
   "metadata": {},
   "outputs": [
    {
     "data": {
      "image/svg+xml": [
       "<?xml version=\"1.0\" encoding=\"UTF-8\" standalone=\"no\"?>\n",
       "<!DOCTYPE svg PUBLIC \"-//W3C//DTD SVG 1.1//EN\"\n",
       " \"http://www.w3.org/Graphics/SVG/1.1/DTD/svg11.dtd\">\n",
       "<!-- Generated by graphviz version 2.40.1 (20161225.0304)\n",
       " -->\n",
       "<!-- Title: mlrun&#45;flow Pages: 1 -->\n",
       "<svg width=\"827pt\" height=\"98pt\"\n",
       " viewBox=\"0.00 0.00 826.86 98.00\" xmlns=\"http://www.w3.org/2000/svg\" xmlns:xlink=\"http://www.w3.org/1999/xlink\">\n",
       "<g id=\"graph0\" class=\"graph\" transform=\"scale(1 1) rotate(0) translate(4 94)\">\n",
       "<title>mlrun&#45;flow</title>\n",
       "<polygon fill=\"#ffffff\" stroke=\"transparent\" points=\"-4,4 -4,-94 822.8551,-94 822.8551,4 -4,4\"/>\n",
       "<!-- _start -->\n",
       "<g id=\"node1\" class=\"node\">\n",
       "<title>_start</title>\n",
       "<polygon fill=\"#d3d3d3\" stroke=\"#000000\" points=\"38.5476,-27.0493 40.698,-27.1479 42.8263,-27.2953 44.9236,-27.4913 46.9815,-27.7353 48.9917,-28.0266 50.9463,-28.3645 52.8377,-28.7479 54.6587,-29.1759 56.4025,-29.6472 58.0628,-30.1606 59.634,-30.7147 61.1107,-31.308 62.4882,-31.9388 63.7625,-32.6054 64.9302,-33.3059 65.9882,-34.0385 66.9343,-34.8012 67.7669,-35.5918 68.4849,-36.4082 69.0878,-37.2481 69.5758,-38.1093 69.9496,-38.9894 70.2102,-39.886 70.3595,-40.7965 70.3997,-41.7186 70.3334,-42.6497 70.1636,-43.5873 69.8937,-44.5287 69.5276,-45.4713 69.0691,-46.4127 68.5225,-47.3503 67.8923,-48.2814 67.1831,-49.2035 66.3996,-50.114 65.5464,-51.0106 64.6285,-51.8907 63.6504,-52.7519 62.617,-53.5918 61.5329,-54.4082 60.4024,-55.1988 59.2299,-55.9615 58.0197,-56.6941 56.7755,-57.3946 55.5012,-58.0612 54.2002,-58.692 52.8757,-59.2853 51.5309,-59.8394 50.1684,-60.3528 48.7908,-60.8241 47.4003,-61.2521 45.9989,-61.6355 44.5886,-61.9734 43.1708,-62.2647 41.7472,-62.5087 40.3189,-62.7047 38.8872,-62.8521 37.4531,-62.9507 36.0175,-63 34.5815,-63 33.146,-62.9507 31.7119,-62.8521 30.2801,-62.7047 28.8519,-62.5087 27.4282,-62.2647 26.0105,-61.9734 24.6001,-61.6355 23.1988,-61.2521 21.8083,-60.8241 20.4306,-60.3528 19.0681,-59.8394 17.7233,-59.2853 16.3989,-58.692 15.0979,-58.0612 13.8236,-57.3946 12.5794,-56.6941 11.3691,-55.9615 10.1967,-55.1988 9.0662,-54.4082 7.982,-53.5918 6.9486,-52.7519 5.9706,-51.8907 5.0526,-51.0106 4.1995,-50.114 3.4159,-49.2035 2.7067,-48.2814 2.0765,-47.3503 1.53,-46.4127 1.0715,-45.4713 .7053,-44.5287 .4355,-43.5873 .2657,-42.6497 .1993,-41.7186 .2395,-40.7965 .3888,-39.886 .6495,-38.9894 1.0232,-38.1093 1.5112,-37.2481 2.1141,-36.4082 2.8321,-35.5918 3.6647,-34.8012 4.6109,-34.0385 5.6689,-33.3059 6.8365,-32.6054 8.1108,-31.9388 9.4884,-31.308 10.9651,-30.7147 12.5362,-30.1606 14.1966,-29.6472 15.9404,-29.1759 17.7614,-28.7479 19.6528,-28.3645 21.6074,-28.0266 23.6176,-27.7353 25.6755,-27.4913 27.7728,-27.2953 29.901,-27.1479 32.0515,-27.0493 34.2154,-27 36.3837,-27 38.5476,-27.0493\"/>\n",
       "<text text-anchor=\"middle\" x=\"35.2995\" y=\"-41.3\" font-family=\"Times,serif\" font-size=\"14.00\" fill=\"#000000\">start</text>\n",
       "</g>\n",
       "<!-- get_news -->\n",
       "<g id=\"node2\" class=\"node\">\n",
       "<title>get_news</title>\n",
       "<ellipse fill=\"none\" stroke=\"#000000\" cx=\"161.1942\" cy=\"-45\" rx=\"54.6905\" ry=\"18\"/>\n",
       "<text text-anchor=\"middle\" x=\"161.1942\" y=\"-41.3\" font-family=\"Times,serif\" font-size=\"14.00\" fill=\"#000000\">get_news</text>\n",
       "</g>\n",
       "<!-- _start&#45;&gt;get_news -->\n",
       "<g id=\"edge1\" class=\"edge\">\n",
       "<title>_start&#45;&gt;get_news</title>\n",
       "<path fill=\"none\" stroke=\"#000000\" d=\"M70.0341,-45C78.1776,-45 87.1155,-45 96.1116,-45\"/>\n",
       "<polygon fill=\"#000000\" stroke=\"#000000\" points=\"96.254,-48.5001 106.254,-45 96.2539,-41.5001 96.254,-48.5001\"/>\n",
       "</g>\n",
       "<!-- flatten_news -->\n",
       "<g id=\"node3\" class=\"node\">\n",
       "<title>flatten_news</title>\n",
       "<ellipse fill=\"none\" stroke=\"#000000\" cx=\"321.9831\" cy=\"-45\" rx=\"70.3881\" ry=\"18\"/>\n",
       "<text text-anchor=\"middle\" x=\"321.9831\" y=\"-41.3\" font-family=\"Times,serif\" font-size=\"14.00\" fill=\"#000000\">flatten_news</text>\n",
       "</g>\n",
       "<!-- get_news&#45;&gt;flatten_news -->\n",
       "<g id=\"edge2\" class=\"edge\">\n",
       "<title>get_news&#45;&gt;flatten_news</title>\n",
       "<path fill=\"none\" stroke=\"#000000\" d=\"M216.0789,-45C224.3179,-45 232.9556,-45 241.5932,-45\"/>\n",
       "<polygon fill=\"#000000\" stroke=\"#000000\" points=\"241.7092,-48.5001 251.7091,-45 241.7091,-41.5001 241.7092,-48.5001\"/>\n",
       "</g>\n",
       "<!-- wrap_event -->\n",
       "<g id=\"node4\" class=\"node\">\n",
       "<title>wrap_event</title>\n",
       "<ellipse fill=\"none\" stroke=\"#000000\" cx=\"493.1711\" cy=\"-45\" rx=\"64.9885\" ry=\"18\"/>\n",
       "<text text-anchor=\"middle\" x=\"493.1711\" y=\"-41.3\" font-family=\"Times,serif\" font-size=\"14.00\" fill=\"#000000\">wrap_event</text>\n",
       "</g>\n",
       "<!-- flatten_news&#45;&gt;wrap_event -->\n",
       "<g id=\"edge3\" class=\"edge\">\n",
       "<title>flatten_news&#45;&gt;wrap_event</title>\n",
       "<path fill=\"none\" stroke=\"#000000\" d=\"M392.6002,-45C400.9159,-45 409.4263,-45 417.804,-45\"/>\n",
       "<polygon fill=\"#000000\" stroke=\"#000000\" points=\"417.9353,-48.5001 427.9353,-45 417.9353,-41.5001 417.9353,-48.5001\"/>\n",
       "</g>\n",
       "<!-- sentiment -->\n",
       "<g id=\"node5\" class=\"node\">\n",
       "<title>sentiment</title>\n",
       "<ellipse fill=\"none\" stroke=\"#000000\" cx=\"652.0102\" cy=\"-45\" rx=\"57.6901\" ry=\"18\"/>\n",
       "<text text-anchor=\"middle\" x=\"652.0102\" y=\"-41.3\" font-family=\"Times,serif\" font-size=\"14.00\" fill=\"#000000\">sentiment</text>\n",
       "</g>\n",
       "<!-- wrap_event&#45;&gt;sentiment -->\n",
       "<g id=\"edge4\" class=\"edge\">\n",
       "<title>wrap_event&#45;&gt;sentiment</title>\n",
       "<path fill=\"none\" stroke=\"#000000\" d=\"M558.2354,-45C566.6409,-45 575.2683,-45 583.724,-45\"/>\n",
       "<polygon fill=\"#000000\" stroke=\"#000000\" points=\"583.9264,-48.5001 593.9264,-45 583.9264,-41.5001 583.9264,-48.5001\"/>\n",
       "</g>\n",
       "<!-- parquet -->\n",
       "<g id=\"node6\" class=\"node\">\n",
       "<title>parquet</title>\n",
       "<path fill=\"none\" stroke=\"#000000\" d=\"M818.8551,-86.7273C818.8551,-88.5331 802.4952,-90 782.3551,-90 762.215,-90 745.8551,-88.5331 745.8551,-86.7273 745.8551,-86.7273 745.8551,-57.2727 745.8551,-57.2727 745.8551,-55.4669 762.215,-54 782.3551,-54 802.4952,-54 818.8551,-55.4669 818.8551,-57.2727 818.8551,-57.2727 818.8551,-86.7273 818.8551,-86.7273\"/>\n",
       "<path fill=\"none\" stroke=\"#000000\" d=\"M818.8551,-86.7273C818.8551,-84.9214 802.4952,-83.4545 782.3551,-83.4545 762.215,-83.4545 745.8551,-84.9214 745.8551,-86.7273\"/>\n",
       "<text text-anchor=\"middle\" x=\"782.3551\" y=\"-68.3\" font-family=\"Times,serif\" font-size=\"14.00\" fill=\"#000000\">parquet</text>\n",
       "</g>\n",
       "<!-- sentiment&#45;&gt;parquet -->\n",
       "<g id=\"edge5\" class=\"edge\">\n",
       "<title>sentiment&#45;&gt;parquet</title>\n",
       "<path fill=\"none\" stroke=\"#000000\" d=\"M700.1755,-54.9771C711.8422,-57.3938 724.2907,-59.9724 735.8779,-62.3726\"/>\n",
       "<polygon fill=\"#000000\" stroke=\"#000000\" points=\"735.2955,-65.8262 745.7976,-64.4274 736.7154,-58.9717 735.2955,-65.8262\"/>\n",
       "</g>\n",
       "<!-- nosql -->\n",
       "<g id=\"node7\" class=\"node\">\n",
       "<title>nosql</title>\n",
       "<path fill=\"none\" stroke=\"#000000\" d=\"M809.8551,-32.7273C809.8551,-34.5331 797.5292,-36 782.3551,-36 767.181,-36 754.8551,-34.5331 754.8551,-32.7273 754.8551,-32.7273 754.8551,-3.2727 754.8551,-3.2727 754.8551,-1.4669 767.181,0 782.3551,0 797.5292,0 809.8551,-1.4669 809.8551,-3.2727 809.8551,-3.2727 809.8551,-32.7273 809.8551,-32.7273\"/>\n",
       "<path fill=\"none\" stroke=\"#000000\" d=\"M809.8551,-32.7273C809.8551,-30.9214 797.5292,-29.4545 782.3551,-29.4545 767.181,-29.4545 754.8551,-30.9214 754.8551,-32.7273\"/>\n",
       "<text text-anchor=\"middle\" x=\"782.3551\" y=\"-14.3\" font-family=\"Times,serif\" font-size=\"14.00\" fill=\"#000000\">nosql</text>\n",
       "</g>\n",
       "<!-- sentiment&#45;&gt;nosql -->\n",
       "<g id=\"edge6\" class=\"edge\">\n",
       "<title>sentiment&#45;&gt;nosql</title>\n",
       "<path fill=\"none\" stroke=\"#000000\" d=\"M700.1755,-35.0229C714.8541,-31.9823 730.7702,-28.6854 744.6514,-25.81\"/>\n",
       "<polygon fill=\"#000000\" stroke=\"#000000\" points=\"745.7335,-29.1603 754.8156,-23.7046 744.3135,-22.3058 745.7335,-29.1603\"/>\n",
       "</g>\n",
       "</g>\n",
       "</svg>\n"
      ],
      "text/plain": [
       "<graphviz.dot.Digraph at 0x7f3e7d02bf50>"
      ]
     },
     "execution_count": 6,
     "metadata": {},
     "output_type": "execute_result"
    }
   ],
   "source": [
    "import mlrun.feature_store as fstore\n",
    "from mlrun.feature_store.steps import DateExtractor, MapValues\n",
    "import yahoo_fin.stock_info as si\n",
    "\n",
    "# creating feature set\n",
    "news_set = fstore.FeatureSet(\"news\", \n",
    "                                 entities=[fstore.Entity(\"ticker\")],\n",
    "                                 timestamp_key='Datetime', \n",
    "                                 description=\"stocks news feature set\")\n",
    "\n",
    "# setting up the graph\n",
    "news_set.graph \\\n",
    "    .to(name='get_news', handler='get_news') \\\n",
    "    .to(\"storey.steps.Flatten\", name=\"flatten_news\") \\\n",
    "    .to(name='wrap_event', handler='wrap_event') \\\n",
    "    .to(\"sentiment_analysis\", \"sentiment\", full_event=True, address=address) \n",
    "\n",
    "news_set.set_targets(with_defaults=True) \n",
    "news_set.plot(rankdir=\"LR\", with_targets=True)"
   ]
  },
  {
   "cell_type": "markdown",
   "id": "4d68f746",
   "metadata": {},
   "source": [
    "## Dummy ingestion, Deploying ingestion service and getting ingestion endpoint"
   ]
  },
  {
   "cell_type": "code",
   "execution_count": 7,
   "id": "232bae8b",
   "metadata": {},
   "outputs": [
    {
     "data": {
      "text/html": [
       "<div>\n",
       "<style scoped>\n",
       "    .dataframe tbody tr th:only-of-type {\n",
       "        vertical-align: middle;\n",
       "    }\n",
       "\n",
       "    .dataframe tbody tr th {\n",
       "        vertical-align: top;\n",
       "    }\n",
       "\n",
       "    .dataframe thead th {\n",
       "        text-align: right;\n",
       "    }\n",
       "</style>\n",
       "<table border=\"1\" class=\"dataframe\">\n",
       "  <thead>\n",
       "    <tr style=\"text-align: right;\">\n",
       "      <th></th>\n",
       "      <th>Datetime</th>\n",
       "      <th>published</th>\n",
       "      <th>summary</th>\n",
       "      <th>title</th>\n",
       "      <th>sentiment</th>\n",
       "    </tr>\n",
       "    <tr>\n",
       "      <th>ticker</th>\n",
       "      <th></th>\n",
       "      <th></th>\n",
       "      <th></th>\n",
       "      <th></th>\n",
       "      <th></th>\n",
       "    </tr>\n",
       "  </thead>\n",
       "  <tbody>\n",
       "    <tr>\n",
       "      <th>A</th>\n",
       "      <td>2022-11-07 13:00:00</td>\n",
       "      <td>2022-11-07 13:00:00</td>\n",
       "      <td>SANTA CLARA Calif November 07 2022Agilent Tech...</td>\n",
       "      <td>Agilent Joins the How2Recycle Program</td>\n",
       "      <td>1.0</td>\n",
       "    </tr>\n",
       "    <tr>\n",
       "      <th>A</th>\n",
       "      <td>2022-11-04 16:33:04</td>\n",
       "      <td>2022-11-04 16:33:04</td>\n",
       "      <td>Skyworks SWKS fourthquarter fiscal 2022 result...</td>\n",
       "      <td>Skyworks SWKS Q4 Earnings Top Estimates Revenu...</td>\n",
       "      <td>1.0</td>\n",
       "    </tr>\n",
       "    <tr>\n",
       "      <th>A</th>\n",
       "      <td>2022-11-04 13:58:01</td>\n",
       "      <td>2022-11-04 13:58:01</td>\n",
       "      <td>Microchips MCHP secondquarter fiscal 2023 resu...</td>\n",
       "      <td>Microchip MCHP Q2 Earnings Top Estimates Sales...</td>\n",
       "      <td>1.0</td>\n",
       "    </tr>\n",
       "    <tr>\n",
       "      <th>A</th>\n",
       "      <td>2022-11-03 13:45:01</td>\n",
       "      <td>2022-11-03 13:45:01</td>\n",
       "      <td>Itron ITRI delivered earnings and revenue surp...</td>\n",
       "      <td>Itron ITRI Meets Q3 Earnings Estimates</td>\n",
       "      <td>0.0</td>\n",
       "    </tr>\n",
       "    <tr>\n",
       "      <th>A</th>\n",
       "      <td>2022-11-01 18:30:00</td>\n",
       "      <td>2022-11-01 18:30:00</td>\n",
       "      <td>SANTA CLARA Calif November 01 2022Agilent Tech...</td>\n",
       "      <td>Agilent to Announce FourthQuarter Fiscal Year ...</td>\n",
       "      <td>0.0</td>\n",
       "    </tr>\n",
       "    <tr>\n",
       "      <th>...</th>\n",
       "      <td>...</td>\n",
       "      <td>...</td>\n",
       "      <td>...</td>\n",
       "      <td>...</td>\n",
       "      <td>...</td>\n",
       "    </tr>\n",
       "    <tr>\n",
       "      <th>ACN</th>\n",
       "      <td>2022-10-29 12:00:46</td>\n",
       "      <td>2022-10-29 12:00:46</td>\n",
       "      <td>Despite the fact that Accenture plc NYSEACN st...</td>\n",
       "      <td>Accenture plc NYSEACN insiders made a handsome...</td>\n",
       "      <td>0.5</td>\n",
       "    </tr>\n",
       "    <tr>\n",
       "      <th>ACN</th>\n",
       "      <td>2022-10-28 06:44:00</td>\n",
       "      <td>2022-10-28 06:44:00</td>\n",
       "      <td>New research from Accenture NYSE ACN shows tha...</td>\n",
       "      <td>Chinese Companies Remain Committed to Digital ...</td>\n",
       "      <td>1.0</td>\n",
       "    </tr>\n",
       "    <tr>\n",
       "      <th>ACN</th>\n",
       "      <td>2022-10-26 10:59:00</td>\n",
       "      <td>2022-10-26 10:59:00</td>\n",
       "      <td>NEW YORK October 26 2022Applications are now b...</td>\n",
       "      <td>FinTech Innovation Lab New York Now Accepting ...</td>\n",
       "      <td>0.0</td>\n",
       "    </tr>\n",
       "    <tr>\n",
       "      <th>ACN</th>\n",
       "      <td>2022-10-26 09:47:00</td>\n",
       "      <td>2022-10-26 09:47:00</td>\n",
       "      <td>Monster Beverage Accenture and Match Group all...</td>\n",
       "      <td>3 Unstoppable Growth Stocks to Buy and Hold Fo...</td>\n",
       "      <td>0.5</td>\n",
       "    </tr>\n",
       "    <tr>\n",
       "      <th>ACN</th>\n",
       "      <td>2022-10-25 21:45:09</td>\n",
       "      <td>2022-10-25 21:45:09</td>\n",
       "      <td>In the latest trading session Accenture ACN cl...</td>\n",
       "      <td>Accenture ACN Outpaces Stock Market Gains What...</td>\n",
       "      <td>0.0</td>\n",
       "    </tr>\n",
       "  </tbody>\n",
       "</table>\n",
       "<p>200 rows × 5 columns</p>\n",
       "</div>"
      ],
      "text/plain": [
       "                  Datetime            published  \\\n",
       "ticker                                            \n",
       "A      2022-11-07 13:00:00  2022-11-07 13:00:00   \n",
       "A      2022-11-04 16:33:04  2022-11-04 16:33:04   \n",
       "A      2022-11-04 13:58:01  2022-11-04 13:58:01   \n",
       "A      2022-11-03 13:45:01  2022-11-03 13:45:01   \n",
       "A      2022-11-01 18:30:00  2022-11-01 18:30:00   \n",
       "...                    ...                  ...   \n",
       "ACN    2022-10-29 12:00:46  2022-10-29 12:00:46   \n",
       "ACN    2022-10-28 06:44:00  2022-10-28 06:44:00   \n",
       "ACN    2022-10-26 10:59:00  2022-10-26 10:59:00   \n",
       "ACN    2022-10-26 09:47:00  2022-10-26 09:47:00   \n",
       "ACN    2022-10-25 21:45:09  2022-10-25 21:45:09   \n",
       "\n",
       "                                                  summary  \\\n",
       "ticker                                                      \n",
       "A       SANTA CLARA Calif November 07 2022Agilent Tech...   \n",
       "A       Skyworks SWKS fourthquarter fiscal 2022 result...   \n",
       "A       Microchips MCHP secondquarter fiscal 2023 resu...   \n",
       "A       Itron ITRI delivered earnings and revenue surp...   \n",
       "A       SANTA CLARA Calif November 01 2022Agilent Tech...   \n",
       "...                                                   ...   \n",
       "ACN     Despite the fact that Accenture plc NYSEACN st...   \n",
       "ACN     New research from Accenture NYSE ACN shows tha...   \n",
       "ACN     NEW YORK October 26 2022Applications are now b...   \n",
       "ACN     Monster Beverage Accenture and Match Group all...   \n",
       "ACN     In the latest trading session Accenture ACN cl...   \n",
       "\n",
       "                                                    title  sentiment  \n",
       "ticker                                                                \n",
       "A                   Agilent Joins the How2Recycle Program        1.0  \n",
       "A       Skyworks SWKS Q4 Earnings Top Estimates Revenu...        1.0  \n",
       "A       Microchip MCHP Q2 Earnings Top Estimates Sales...        1.0  \n",
       "A                  Itron ITRI Meets Q3 Earnings Estimates        0.0  \n",
       "A       Agilent to Announce FourthQuarter Fiscal Year ...        0.0  \n",
       "...                                                   ...        ...  \n",
       "ACN     Accenture plc NYSEACN insiders made a handsome...        0.5  \n",
       "ACN     Chinese Companies Remain Committed to Digital ...        1.0  \n",
       "ACN     FinTech Innovation Lab New York Now Accepting ...        0.0  \n",
       "ACN     3 Unstoppable Growth Stocks to Buy and Hold Fo...        0.5  \n",
       "ACN     Accenture ACN Outpaces Stock Market Gains What...        0.0  \n",
       "\n",
       "[200 rows x 5 columns]"
      ]
     },
     "execution_count": 7,
     "metadata": {},
     "output_type": "execute_result"
    }
   ],
   "source": [
    "# ingesting dummy (A MUST) \n",
    "import os\n",
    "import datetime\n",
    "import pandas as pd\n",
    "# because were ingesting locally, code must be present !\n",
    "from src.news import *\n",
    "\n",
    "name = os.environ['V3IO_USERNAME']\n",
    "now = datetime.datetime.now().strftime('%Y-%m-%d %H:%M:%S')\n",
    "\n",
    "fstore.ingest(news_set,\n",
    "              pd.DataFrame.from_dict({'ticker':[name],\n",
    "                                      'Datetime': now,\n",
    "                                      'n_stocks':NUMBER_OF_STOCKS}),\n",
    "              overwrite=True)"
   ]
  },
  {
   "cell_type": "code",
   "execution_count": 8,
   "id": "f8a52db1",
   "metadata": {},
   "outputs": [
    {
     "name": "stdout",
     "output_type": "stream",
     "text": [
      "> 2022-11-08 11:37:43,772 [info] Starting remote function deploy\n",
      "2022-11-08 11:37:43  (info) Deploying function\n",
      "2022-11-08 11:37:43  (info) Building\n",
      "2022-11-08 11:37:43  (info) Staging files and preparing base images\n",
      "2022-11-08 11:37:44  (info) Building processor image\n",
      "2022-11-08 11:39:29  (info) Build complete\n",
      "2022-11-08 11:39:41  (info) Function deploy complete\n",
      "> 2022-11-08 11:39:41,832 [info] successfully deployed function: {'internal_invocation_urls': ['nuclio-stocks-dani-get-news.default-tenant.svc.cluster.local:8080'], 'external_invocation_urls': ['stocks-dani-get-news-stocks-dani.default-tenant.app.vmdev93.lab.iguazeng.com/']}\n"
     ]
    }
   ],
   "source": [
    "# Deploying ingestion service\n",
    "# Define the HTTP Source to_dictable the HTTP trigger on our function and expose the endpoint.\n",
    "# There is an option to declare key and timestamp inside the http source (here we dont send data through the http hence not needed)\n",
    "http_source = mlrun.datastore.sources.HttpSource()\n",
    "news_set.spec.source = http_source\n",
    "\n",
    "# code_to_function our mlrun wrapped function to deploy the ingestion pipeline on.\n",
    "# the serving runtimes enables the deployment of our feature set's computational graph\n",
    "function = mlrun.code_to_function(name='get_news',kind='serving',image='mlrun/mlrun', requirements=['yahoo_fin','graphviz'], filename='src/news.py')\n",
    "\n",
    "function.spec.readiness_timeout = 3600\n",
    "\n",
    "run_config = fstore.RunConfig(function=function, local=False).apply(mlrun.mount_v3io())\n",
    "\n",
    "# Deploying\n",
    "news_set_endpoint = fstore.deploy_ingestion_service(featureset=news_set, run_config=run_config)"
   ]
  },
  {
   "cell_type": "markdown",
   "id": "d3453c78",
   "metadata": {},
   "source": [
    "## Testing ingestion service"
   ]
  },
  {
   "cell_type": "code",
   "execution_count": 9,
   "id": "4a1d417e",
   "metadata": {},
   "outputs": [
    {
     "data": {
      "text/plain": [
       "'{\"id\": \"8ab0e779-5dfe-4cf6-aaef-8b6aafa3c06c\"}'"
      ]
     },
     "execution_count": 9,
     "metadata": {},
     "output_type": "execute_result"
    }
   ],
   "source": [
    "import requests\n",
    "import json\n",
    "\n",
    "now = datetime.datetime.now().strftime('%Y-%m-%d %H:%M:%S')\n",
    "\n",
    "t = requests.post(news_set_endpoint,json={'ticker':['news'],\n",
    "                                                 'Datetime': now,\n",
    "                                                 'n_stocks':NUMBER_OF_STOCKS})\n",
    "t.text"
   ]
  },
  {
   "cell_type": "markdown",
   "id": "4103487c",
   "metadata": {},
   "source": [
    "## Creating scheduled mlrun job to invoke our function every time delta"
   ]
  },
  {
   "cell_type": "code",
   "execution_count": 13,
   "id": "b30c05a8",
   "metadata": {},
   "outputs": [
    {
     "name": "stdout",
     "output_type": "stream",
     "text": [
      "> 2022-11-08 12:08:58,238 [info] starting run ingestion-service-news-ingestion_service_invoker uid=b24c52ebf3974cb3b2417f3ac81aa2dd DB=http://mlrun-api:8080\n",
      "> 2022-11-08 12:08:58,602 [info] task scheduled, {'schedule': '0 */1 * * *', 'project': 'stocks-dani', 'name': 'ingestion-service-news-ingestion_service_invoker'}\n"
     ]
    }
   ],
   "source": [
    "import datetime\n",
    "\n",
    "now = datetime.datetime.now().strftime('%Y-%m-%d %H:%M:%S')\n",
    "body = {'ticker':['news'],\n",
    "        'Datetime': now,\n",
    "        'n_stocks':4}\n",
    "\n",
    "# specifying '0 8 * * *' as schedule will trigger the function every day at 08:00 AM\n",
    "fn = mlrun.code_to_function(name='ingestion_service_news',kind='job',image='mlrun/mlrun',handler='ingestion_service_invoker', filename='src/invoker.py')\n",
    "fn.run(params={'endpoint':news_set_endpoint, 'body': body}, schedule='0 */1 * * *')"
   ]
  },
  {
   "cell_type": "code",
   "execution_count": 12,
   "id": "a0e711ac",
   "metadata": {},
   "outputs": [],
   "source": [
    "# Deleting the schedule job\n",
    "mlrun.get_run_db().delete_schedule(project.name,'ingestion-service-news-ingestion_service_invoker')"
   ]
  }
 ],
 "metadata": {
  "kernelspec": {
   "display_name": "Python [conda env:root] *",
   "language": "python",
   "name": "conda-root-py"
  },
  "language_info": {
   "codemirror_mode": {
    "name": "ipython",
    "version": 3
   },
   "file_extension": ".py",
   "mimetype": "text/x-python",
   "name": "python",
   "nbconvert_exporter": "python",
   "pygments_lexer": "ipython3",
   "version": "3.7.6"
  }
 },
 "nbformat": 4,
 "nbformat_minor": 5
}
